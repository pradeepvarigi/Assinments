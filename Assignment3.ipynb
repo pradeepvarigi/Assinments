{
 "cells": [
  {
   "cell_type": "markdown",
   "metadata": {},
   "source": [
    "1.1 Write a Python Program to implement your own myreduce() function which works exactly\n",
    "like Python's built-in function reduce()"
   ]
  },
  {
   "cell_type": "code",
   "execution_count": 1,
   "metadata": {},
   "outputs": [
    {
     "name": "stdout",
     "output_type": "stream",
     "text": [
      "Multiplication of list using cust reduce function:33600\n"
     ]
    }
   ],
   "source": [
    "def custreduce(anyfunc,sequence):\n",
    "    result=sequence[0]\n",
    "    for item in sequence[1:]:\n",
    "        result=anyfunc(result,item)\n",
    "    return result\n",
    "\n",
    "def mul(x,y):\n",
    "    return x*y\n",
    "\n",
    "\n",
    "print(\"Multiplication of list using cust reduce function:\"+str(custreduce(mul,[7,8,10,5,12])))"
   ]
  },
  {
   "cell_type": "markdown",
   "metadata": {},
   "source": [
    "1.2 Write a Python program to implement your own myfilter() function which works exactly\n",
    "like Python's built-in function filter()"
   ]
  },
  {
   "cell_type": "code",
   "execution_count": 2,
   "metadata": {},
   "outputs": [
    {
     "name": "stdout",
     "output_type": "stream",
     "text": [
      "Filtered even number is  using custome filter function[8, 10, 12]\n"
     ]
    }
   ],
   "source": [
    "def custfilter(anyfunc,iterables):\n",
    "    result=[]\n",
    "    for item in iterables:\n",
    "        if anyfunc(item):\n",
    "            result.append(item)\n",
    "    return result\n",
    "    \n",
    "def iseven(x):\n",
    "    if x%2 == 0:\n",
    "        return True\n",
    "    else:\n",
    "        return False\n",
    "print(\"Filtered even number is  using custome filter function\"+str(custfilter(iseven,[7,8,10,5,12])))"
   ]
  },
  {
   "cell_type": "markdown",
   "metadata": {},
   "source": [
    "2.Implement List comprehensions to produce the following lists.                                                                \n",
    "Write List comprehensions to produce the following Lists                                                                       \n",
    "['x', 'xx', 'xxx', 'xxxx', 'y', 'yy', 'yyy', 'yyyy', 'z', 'zz', 'zzz', 'zzzz]                                                  \n",
    "['x', 'y', 'z', 'xx', 'yy', 'zz', 'xx', 'yy', 'zz', 'xxxx', 'yyyy', 'zzzz']                                                    \n",
    "[[2], [3], [4], [3], [4], [5], [4], [5], [6]]                                                                                  \n",
    "[[2, 3, 4, 5], [3, 4, 5, 6], [4, 5, 6, 7], [5, 6, 7, 8]]                                                                       \n",
    "[(1, 1), (2, 1), (3, 1), (1, 2), (2, 2), (3, 2), (1, 3), (2, 3), (3, 3)]"
   ]
  },
  {
   "cell_type": "code",
   "execution_count": 32,
   "metadata": {},
   "outputs": [
    {
     "name": "stdout",
     "output_type": "stream",
     "text": [
      "['x', 'xx', 'xxx', 'xxxx', 'y', 'yy', 'yyy', 'yyyy', 'z', 'zz', 'zzz', 'zzzz']\n",
      "['x', 'y', 'z', 'xx', 'yy', 'zz', 'xxx', 'yyy', 'zzz', 'xxxx', 'yyyy', 'zzzz']\n",
      "[[2], [3], [4], [3], [4], [5], [4], [5], [6]]\n",
      "[[2, 3, 4, 5], [3, 4, 5, 6], [4, 5, 6, 7], [5, 6, 7, 8]]\n",
      "[(1, 1), (2, 1), (3, 1), (1, 2), (2, 2), (3, 2), (1, 3), (2, 3), (3, 3)]\n"
     ]
    }
   ],
   "source": [
    "input_lis=['x','y','z']\n",
    "input_lis1=[2,3,4]\n",
    "input_lis2=[2,3,4,5]\n",
    "input_lis3=[1,2,3]\n",
    "output=[i*j for i in input_lis for j in range(1,5)]\n",
    "output2=[i*j for i in range (1,5) for j in input_lis]\n",
    "output3=[[i+j] for i in input_lis1 for j in range(0,3)]\n",
    "output4=[[i+j for i in input_lis2] for j in range(0,4)]\n",
    "output5=[(j,i) for i in input_lis3 for j in input_lis3]\n",
    "print(output)\n",
    "print(output2)\n",
    "print(output3)\n",
    "print(output4)\n",
    "print(output5)"
   ]
  },
  {
   "cell_type": "code",
   "execution_count": null,
   "metadata": {},
   "outputs": [],
   "source": [
    "\n"
   ]
  },
  {
   "cell_type": "code",
   "execution_count": null,
   "metadata": {},
   "outputs": [],
   "source": []
  }
 ],
 "metadata": {
  "kernelspec": {
   "display_name": "Python 3",
   "language": "python",
   "name": "python3"
  },
  "language_info": {
   "codemirror_mode": {
    "name": "ipython",
    "version": 3
   },
   "file_extension": ".py",
   "mimetype": "text/x-python",
   "name": "python",
   "nbconvert_exporter": "python",
   "pygments_lexer": "ipython3",
   "version": "3.7.3"
  }
 },
 "nbformat": 4,
 "nbformat_minor": 4
}
