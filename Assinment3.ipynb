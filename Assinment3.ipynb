{
 "cells": [
  {
   "cell_type": "markdown",
   "metadata": {},
   "source": [
    "# Task1"
   ]
  },
  {
   "cell_type": "markdown",
   "metadata": {},
   "source": [
    "1.Write a function to compute 5/0 and use try/except to catch the exceptions."
   ]
  },
  {
   "cell_type": "code",
   "execution_count": null,
   "metadata": {},
   "outputs": [],
   "source": []
  },
  {
   "cell_type": "markdown",
   "metadata": {},
   "source": [
    "2.Implement a Python program to generate all sentences where subject is in [\"Americans\",\"Indians\"] and verb is in [\"Play\", \"watch\"] and the object is in [\"Baseball\",\"cricket\"].                                                                          \n",
    "Hint: Subject,Verb and Object should be declared in the program as shown below.                                                \n",
    "subjects=[\"Americans \",\"Indians\"]                                                                                              \n",
    "verbs=[\"play\",\"watch\"]                                                                                                         \n",
    "objects=[\"Baseball\",\"Cricket\"]                                                                                                 "
   ]
  },
  {
   "cell_type": "code",
   "execution_count": 8,
   "metadata": {},
   "outputs": [
    {
     "name": "stdout",
     "output_type": "stream",
     "text": [
      "Enter the country name:Americans Indians\n",
      "Enter the verbs:play watch\n",
      "Enter the games:Baseball Cricket\n",
      "subjects= ['Americans', 'Indians']\n",
      "verbs= ['play', 'watch']\n",
      "obects= ['Baseball', 'Cricket']\n",
      "\n",
      "\n",
      "Americans play Baseball\n",
      "Americans play Cricket\n",
      "Americans watch Baseball\n",
      "Americans watch Cricket\n",
      "Indians play Baseball\n",
      "Indians play Cricket\n",
      "Indians watch Baseball\n",
      "Indians watch Cricket\n"
     ]
    }
   ],
   "source": [
    "def gas(sub,ver,obj):\n",
    "    lis=[(i+\" \"+j+\" \"+k) for i in sub for j in ver for k in obj]\n",
    "    for sentance in lis:\n",
    "        print(sentance)\n",
    "subjects=input(\"Enter the country name:\")\n",
    "verbs=input(\"Enter the verbs:\")\n",
    "obects=input(\"Enter the games:\")\n",
    "sub=subjects.split()\n",
    "ver=verbs.split()\n",
    "obj=obects.split()\n",
    "print(\"subjects=\",sub)\n",
    "print(\"verbs=\",ver)\n",
    "print(\"obects=\",obj)\n",
    "print(\"\\n\")\n",
    "gas(sub,ver,obj)\n",
    "    "
   ]
  },
  {
   "cell_type": "code",
   "execution_count": 9,
   "metadata": {},
   "outputs": [
    {
     "ename": "TypeError",
     "evalue": "object of type 'int' has no len()",
     "output_type": "error",
     "traceback": [
      "\u001b[1;31m---------------------------------------------------------------------------\u001b[0m",
      "\u001b[1;31mTypeError\u001b[0m                                 Traceback (most recent call last)",
      "\u001b[1;32m<ipython-input-9-91fed648bb37>\u001b[0m in \u001b[0;36m<module>\u001b[1;34m\u001b[0m\n\u001b[1;32m----> 1\u001b[1;33m \u001b[0mlen\u001b[0m\u001b[1;33m(\u001b[0m\u001b[1;36m5\u001b[0m\u001b[1;33m)\u001b[0m\u001b[1;33m\u001b[0m\u001b[1;33m\u001b[0m\u001b[0m\n\u001b[0m",
      "\u001b[1;31mTypeError\u001b[0m: object of type 'int' has no len()"
     ]
    }
   ],
   "source": [
    "len(5)"
   ]
  },
  {
   "cell_type": "code",
   "execution_count": null,
   "metadata": {},
   "outputs": [],
   "source": []
  },
  {
   "cell_type": "code",
   "execution_count": null,
   "metadata": {},
   "outputs": [],
   "source": [
    "class Mobile:\n",
    "    def __init__(self):\n",
    "        print(\"Id of self in constructor\", id(self))\n",
    "\n",
    "mob1=Mobile()\n"
   ]
  }
 ],
 "metadata": {
  "kernelspec": {
   "display_name": "Python 3",
   "language": "python",
   "name": "python3"
  },
  "language_info": {
   "codemirror_mode": {
    "name": "ipython",
    "version": 3
   },
   "file_extension": ".py",
   "mimetype": "text/x-python",
   "name": "python",
   "nbconvert_exporter": "python",
   "pygments_lexer": "ipython3",
   "version": "3.7.3"
  }
 },
 "nbformat": 4,
 "nbformat_minor": 4
}
