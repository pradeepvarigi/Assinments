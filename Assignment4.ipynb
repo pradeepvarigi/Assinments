{
 "cells": [
  {
   "cell_type": "raw",
   "metadata": {},
   "source": [
    "1.1 Write a Python Program(with class concepts) to find the area of the triangle using the below\n",
    "formula.\n",
    "area = (s*(s-a)*(s-b)*(s-c)) ** 0.5\n",
    "Function to take the length of the sides of triangle from user should be defined in the parent\n",
    "class and function to calculate the area should be defined in subclass."
   ]
  },
  {
   "cell_type": "code",
   "execution_count": 32,
   "metadata": {},
   "outputs": [
    {
     "name": "stdout",
     "output_type": "stream",
     "text": [
      "<bound method Triangle.get_area of <__main__.Triangle object at 0x000001BB617B9F98>>\n",
      "('Area of triangle', 9.921567416492215)\n"
     ]
    }
   ],
   "source": [
    "class All:\n",
    "\n",
    "    def __init__(self, n):\n",
    "        self.number_of_sides = n\n",
    "class Triangle(All):\n",
    "\n",
    "    def __init__(self, lengths_of_sides):\n",
    "        All.__init__(self, 3)\n",
    "        self.lengths_of_sides = lengths_of_sides \n",
    "\n",
    "    def get_area(self):\n",
    "        a, b, c = self.lengths_of_sides\n",
    "\n",
    "        # calculate the semi-perimeter\n",
    "        s = (a + b + c) / 2\n",
    "        return \"Area of triangle\",(s*(s-a)*(s-b)*(s-c)) ** 0.5\n",
    "T=Triangle([4,5,6])\n",
    "print(T.get_area)\n",
    "print(T.get_area())\n"
   ]
  },
  {
   "cell_type": "raw",
   "metadata": {},
   "source": [
    "1.2) Write a function filter_long_words() that takes a list of words and an integer n and returns\n",
    "the list of words that are longer than n."
   ]
  },
  {
   "cell_type": "code",
   "execution_count": 12,
   "metadata": {},
   "outputs": [
    {
     "name": "stdout",
     "output_type": "stream",
     "text": [
      "Enter the words :pr pra prad deep\n",
      "Enter a number:3\n"
     ]
    },
    {
     "data": {
      "text/plain": [
       "['prad', 'deep']"
      ]
     },
     "execution_count": 12,
     "metadata": {},
     "output_type": "execute_result"
    }
   ],
   "source": [
    "def filter_long_words(words,n):\n",
    "    newword=[]\n",
    "    for word in words:\n",
    "        if len(word)>n:\n",
    "            newword.append(word)\n",
    "    return newword\n",
    "\n",
    "words=input(\"Enter the words :\")\n",
    "war= words.split()\n",
    "num=int(input(\"Enter a number:\"))\n",
    "filter_long_words(war,num)"
   ]
  },
  {
   "cell_type": "raw",
   "metadata": {},
   "source": [
    "2.1 Write a Python program using function concept that maps list of words into a list of integers\n",
    "representing the lengths of the corresponding words.\n",
    "Hint: If a list [ ab,cde,erty] is passed on to the python function output should come as [2,3,4]\n",
    "Here 2,3 and 4 are the lengths of the words in the list."
   ]
  },
  {
   "cell_type": "code",
   "execution_count": 18,
   "metadata": {},
   "outputs": [
    {
     "name": "stdout",
     "output_type": "stream",
     "text": [
      "Enter the words:sds,sdsd, sdsd\n",
      "['sds', 'sdsd', ' sdsd']\n"
     ]
    },
    {
     "data": {
      "text/plain": [
       "[3, 4, 5]"
      ]
     },
     "execution_count": 18,
     "metadata": {},
     "output_type": "execute_result"
    }
   ],
   "source": [
    "def MOW(LOW):\n",
    "    length=[]\n",
    "    for i in LOW:\n",
    "        length.append(len(i))\n",
    "    return length\n",
    "\n",
    "words=input(\"Enter the words:\")\n",
    "war=words.split(',')\n",
    "print(war)\n",
    "MOW(war)"
   ]
  },
  {
   "cell_type": "code",
   "execution_count": null,
   "metadata": {},
   "outputs": [],
   "source": [
    "2.2 Write a Python function which takes a character (i.e. a string of length 1) and returns True if\n",
    "it is a vowel, False otherwise."
   ]
  },
  {
   "cell_type": "code",
   "execution_count": 19,
   "metadata": {},
   "outputs": [
    {
     "name": "stdout",
     "output_type": "stream",
     "text": [
      "Please enter the vowel:a\n"
     ]
    },
    {
     "data": {
      "text/plain": [
       "True"
      ]
     },
     "execution_count": 19,
     "metadata": {},
     "output_type": "execute_result"
    }
   ],
   "source": [
    "def is_vowel(vowel):\n",
    "    vowels = ('a', 'e', 'i', 'o', 'u')\n",
    "    if vowel not in vowels:\n",
    "        return False\n",
    "    return True\n",
    "    \n",
    "A=(str(input(\"Please enter the vowel:\")))\n",
    "B=A.lower()\n",
    "is_vowel(B)"
   ]
  },
  {
   "cell_type": "code",
   "execution_count": 20,
   "metadata": {},
   "outputs": [
    {
     "data": {
      "text/plain": [
       "'C:\\\\Users\\\\Pradeep'"
      ]
     },
     "execution_count": 20,
     "metadata": {},
     "output_type": "execute_result"
    }
   ],
   "source": [
    "pwd"
   ]
  },
  {
   "cell_type": "code",
   "execution_count": null,
   "metadata": {},
   "outputs": [],
   "source": []
  }
 ],
 "metadata": {
  "kernelspec": {
   "display_name": "Python 3",
   "language": "python",
   "name": "python3"
  },
  "language_info": {
   "codemirror_mode": {
    "name": "ipython",
    "version": 3
   },
   "file_extension": ".py",
   "mimetype": "text/x-python",
   "name": "python",
   "nbconvert_exporter": "python",
   "pygments_lexer": "ipython3",
   "version": "3.7.3"
  }
 },
 "nbformat": 4,
 "nbformat_minor": 4
}
